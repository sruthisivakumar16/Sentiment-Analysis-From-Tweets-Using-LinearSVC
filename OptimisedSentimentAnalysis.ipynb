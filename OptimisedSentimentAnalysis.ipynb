{
 "cells": [
  {
   "cell_type": "markdown",
   "metadata": {},
   "source": [
    "# Sentiment Analysis from Tweets (Optimised)\n",
    "\n",
    "This coursework involves further developing and optmising the techniques we previously used to enhance the model's performance further, focusing on balancing the prediction of positive and negative sentiments."
   ]
  },
  {
   "cell_type": "code",
   "execution_count": 1,
   "metadata": {},
   "outputs": [
    {
     "name": "stderr",
     "output_type": "stream",
     "text": [
      "[nltk_data] Downloading package wordnet to /home/jovyan/nltk_data...\n"
     ]
    }
   ],
   "source": [
    "import csv\n",
    "import re\n",
    "import nltk\n",
    "import numpy as np\n",
    "import pandas as pd\n",
    "import matplotlib.pyplot as plt\n",
    "from nltk.corpus import stopwords\n",
    "nltk.download('wordnet')\n",
    "from nltk.stem import WordNetLemmatizer\n",
    "from sklearn.svm import LinearSVC\n",
    "from sklearn.pipeline import Pipeline\n",
    "from nltk.classify import SklearnClassifier\n",
    "from sklearn.metrics import precision_recall_fscore_support, classification_report # to report on precision and recall\n",
    "from sklearn.feature_extraction.text import CountVectorizer\n",
    "#from nltk.stem import PorterStemmer\n",
    "# nltk.download('stopwords')"
   ]
  },
  {
   "cell_type": "code",
   "execution_count": 2,
   "metadata": {
    "scrolled": true
   },
   "outputs": [],
   "source": [
    "def load_data(path):\n",
    "    \"\"\"Load data from a tab-separated file and append it to raw_data.\"\"\"\n",
    "    with open(path) as f:\n",
    "        reader = csv.reader(f, delimiter='\\t')\n",
    "        for line in reader:\n",
    "            if line[0] == \"Id\":  # skip header\n",
    "                continue\n",
    "            (label, text) = parse_data_line(line)\n",
    "            raw_data.append((text, label))\n",
    "\n",
    "def split_and_preprocess_data(percentage):\n",
    "    \"\"\"Split the data between train_data and test_data according to the percentage\n",
    "    and performs the preprocessing.\"\"\"\n",
    "    num_samples = len(raw_data)\n",
    "    num_training_samples = int((percentage * num_samples))\n",
    "    for (text, label) in raw_data[:num_training_samples]:\n",
    "        train_data.append((to_feature_vector(pre_process_optimised(text)),label)) #optimised pre-processing\n",
    "    for (text, label) in raw_data[num_training_samples:]:\n",
    "        test_data.append((to_feature_vector(pre_process_optimised(text)),label)) #optimised pre-processing"
   ]
  },
  {
   "cell_type": "markdown",
   "metadata": {},
   "source": [
    "## Input and Optimised preprocessing "
   ]
  },
  {
   "cell_type": "code",
   "execution_count": 3,
   "metadata": {
    "scrolled": true
   },
   "outputs": [],
   "source": [
    "def parse_data_line(data_line):\n",
    "    \"\"\"Given a tab separated line, returns a tuple containing label and statement.\"\"\"\n",
    "    label = data_line[1]\n",
    "    statement = data_line[2]\n",
    "    return (label, statement)"
   ]
  },
  {
   "cell_type": "code",
   "execution_count": 4,
   "metadata": {
    "scrolled": true
   },
   "outputs": [],
   "source": [
    "#Pre-processing\n",
    "def pre_process(text):\n",
    "    \"\"\"Separates punctuation from the text and splits the text into words.\"\"\"\n",
    "    \n",
    "    #separating punctuation at the end \n",
    "    text = re.sub(r\"(\\w)([.,;:!?'\\\"”\\)])\", r\"\\1 \\2\", text)\n",
    "    \n",
    "    #separating punctuation at the begining\n",
    "    text = re.sub(r\"([.,;:!?'\\\"“\\(\\)])(\\w)\", r\"\\1 \\2\", text)\n",
    "    \n",
    "    #tokenisation \n",
    "    tokens = re.split(r\"\\s+\",text)\n",
    "    \n",
    "    return tokens"
   ]
  },
  {
   "cell_type": "code",
   "execution_count": 5,
   "metadata": {},
   "outputs": [],
   "source": [
    "#Question 5 - optimisation of pre-processing\n",
    "def pre_process_optimised(text):\n",
    "    \"\"\"Separates punctuation from the text, removes usernames, converts text to lowercase,\n",
    "    splits the text into words, performs lemmatisation and returns as list of words.\"\"\"\n",
    "    \n",
    "    # Remove URLs\n",
    "#     text = re.sub(r'http\\S+', '', text)\n",
    "    \n",
    "    # Remove hashtags\n",
    "#     text = re.sub(r'\\B#\\w+\\b\\s*', '', text)\n",
    "\n",
    "    # Remove usernames\n",
    "    text = re.sub(r'\\B@\\w+\\b\\s*', '', text)\n",
    "\n",
    "    #removes punctuation\n",
    "#     text = re.sub(r'[^\\w\\s\\d]', '', text)\n",
    "    \n",
    "    #separating punctuation at the end \n",
    "    text = re.sub(r\"(\\w)([.,;:!?'\\\"”\\)])\", r\"\\1 \\2\", text)\n",
    "    \n",
    "    #separating punctuation at the begining\n",
    "    text = re.sub(r\"([.,;:!?'\\\"“\\(\\)])(\\w)\", r\"\\1 \\2\", text)\n",
    "    \n",
    "    #tokenisation \n",
    "    tokens = re.split(r\"\\s+\", text)\n",
    "    \n",
    "    \n",
    "    #normalisation\n",
    "    tokens = [t.lower() for t in tokens]\n",
    "\n",
    "    #lemmatisation\n",
    "    lemmatizer = WordNetLemmatizer()\n",
    "    tokens = [lemmatizer.lemmatize(t) for t in tokens]\n",
    "    \n",
    "    #stemming\n",
    "#     stemmer = PorterStemmer()\n",
    "#     tokens = [stemmer.stem(t) for t in tokens]\n",
    "\n",
    "    # Remove stop words\n",
    "#     stop_words = set(stopwords.words('english'))\n",
    "#     tokens = [t for t in tokens if t not in stop_words]\n",
    "    \n",
    "    return tokens"
   ]
  },
  {
   "cell_type": "markdown",
   "metadata": {},
   "source": [
    "Reducing noise and ambiguity in the data is beneficial so that the model could focus on the sentiment alone. Various pre-processing techniques were experimented with to refine the data and isolate sentiment effectively. Removal of URLs & hashtags increased accuracy but removal of stopwords did not improve classifier performance given that the tweets are often made up of short sentences and removing stop words lead to lesser vocabulary. However, the most significant enhancement was observed with the removal of usernames, lemmatization, and normalisation of the text by transforming it into lowercase characters for uniformity, achieving an accuracy of 85.1%"
   ]
  },
  {
   "cell_type": "markdown",
   "metadata": {},
   "source": [
    "## Optimised Feature Extraction"
   ]
  },
  {
   "cell_type": "code",
   "execution_count": 6,
   "metadata": {
    "scrolled": true
   },
   "outputs": [],
   "source": [
    "global_feature_dict = {} # A global dictionary of features\n",
    "\n",
    "def to_feature_vector(tokens):\n",
    "    \"\"\"Returns a dictionary containing list of word indices (keys) and it's weight (values) \n",
    "    corresponding to the frequency of its occurence in the document\"\"\"\n",
    "    \n",
    "    feature_vector = {}\n",
    "    for word in tokens:\n",
    "        #checks if word is present in global dictionary, if it is present the index of the word is retrieved\n",
    "        if word in global_feature_dict:\n",
    "            i = global_feature_dict[word]\n",
    "        else:\n",
    "            #else the word is added to the global dictionary with an index\n",
    "            i = len(global_feature_dict)+1\n",
    "            global_feature_dict[word]=i\n",
    "            #checks if the index is present in local dictionary, if it is present, more weight is added to the word(repeated word)\n",
    "        if i in feature_vector:\n",
    "            feature_vector[i] +=1\n",
    "        else:\n",
    "            #else the word is assigned weight 1 (bag of words)\n",
    "            feature_vector[i]=1\n",
    "    return feature_vector"
   ]
  },
  {
   "cell_type": "code",
   "execution_count": 7,
   "metadata": {},
   "outputs": [],
   "source": [
    "#Question 5 - optimisation of feature vector\n",
    "def to_feature_vector_bigram(text):\n",
    "    \"\"\"Utilises sklearn's CountVectorizer to extract features from a string as bigrams.\"\"\"\n",
    "    count_vect = CountVectorizer(analyzer='word', ngram_range=(2,2), min_df=1)\n",
    "    X_train_counts = count_vect.fit_transform([text])\n",
    "    return count_vect.vocabulary_\n",
    "\n",
    "def to_feature_vector_ngram(text):\n",
    "    \"\"\"Utilises sklearn's CountVectorizer to extract features from a string as n-grams upto 7.\"\"\"\n",
    "    count_vect = CountVectorizer(analyzer='word', ngram_range=(1,7))\n",
    "    X_train_counts = count_vect.fit_transform([text])\n",
    "    return count_vect.vocabulary_"
   ]
  },
  {
   "cell_type": "markdown",
   "metadata": {},
   "source": [
    "To improve the model’s performance, Various methods were experimented with to enhance the model's performance by selecting different features through feature engineering techniques. The bag of words method proved to be the best option delivering an accuracy of 85.1%. The use of bigrams yielded the lowest accuracy of 74.6%, while the use of n-grams slightly improved accuracy to 78.6% compared to bigrams. When combined with the pre-processing techniques, the bag of words model with a feature weighting scheme that increments by 1 for each word appearance in the document, remains the most effective."
   ]
  },
  {
   "cell_type": "code",
   "execution_count": 8,
   "metadata": {
    "scrolled": true
   },
   "outputs": [],
   "source": [
    "# TRAINING AND VALIDATING OUR CLASSIFIER\n",
    "def train_classifier(data):\n",
    "    print(\"Training Classifier...\")\n",
    "    pipeline =  Pipeline([('svc', LinearSVC(dual=True))])\n",
    "    return SklearnClassifier(pipeline).train(data)"
   ]
  },
  {
   "cell_type": "code",
   "execution_count": 9,
   "metadata": {},
   "outputs": [],
   "source": [
    "#Question 5 - tuning the hyperparameter C of the SVM classifier\n",
    "def train_classifier_tuned(data, C):\n",
    "    \"\"\"Trains the classifier on data based on the given value of regularisation paramater.\"\"\"\n",
    "    print(\"Training Classifier...\")\n",
    "    pipeline =  Pipeline([('svc', LinearSVC(C=C, dual=False))])\n",
    "    return SklearnClassifier(pipeline).train(data)"
   ]
  },
  {
   "cell_type": "markdown",
   "metadata": {},
   "source": [
    "## Cross-validation"
   ]
  },
  {
   "cell_type": "code",
   "execution_count": 10,
   "metadata": {
    "scrolled": true
   },
   "outputs": [],
   "source": [
    "results = []\n",
    "global best_fold_data #dictionary to save best fold data for error analysis\n",
    "\n",
    "best_fold_data = { 'max_accuracy': float('-inf') }\n",
    "\n",
    "def cross_validate(dataset, folds):\n",
    "    \"\"\"Performs k-fold cross validation on dataset and returns the average scores of all folds\"\"\"\n",
    "\n",
    "    fold_size = int(len(dataset)/folds) + 1\n",
    "    \n",
    "    for i in range(0,len(dataset),int(fold_size)):\n",
    "        # insert code here that trains and tests on the 10 folds of data in the dataset\n",
    "        print(\"Folds start on items %d - %d\" % (i, i+fold_size))\n",
    "        \n",
    "        # Splitting data into train and test for this fold\n",
    "        test_data = dataset[i:i + fold_size]\n",
    "        train_data = dataset[:i] + dataset[i + fold_size: len(dataset)]\n",
    "        \n",
    "        # Training the classifier with C=0.1\n",
    "        classifier = train_classifier_tuned(train_data, 0.1)\n",
    "        \n",
    "        # Predicting labels on test set\n",
    "        test_text = [data[0] for data in test_data]\n",
    "        test_labels = [data[1] for data in test_data]\n",
    "        predicted_labels = predict_labels(test_text, classifier)\n",
    "        \n",
    "        #calculating metrics for the fold\n",
    "        fold_classification_report = classification_report(test_labels, predicted_labels, output_dict=True)\n",
    "        \n",
    "        #save data of the best fold for error analysis\n",
    "        if(fold_classification_report['accuracy'] > best_fold_data['max_accuracy']):\n",
    "            best_fold_data['cv_test_text'] = test_text\n",
    "            best_fold_data['test_start_index']=i\n",
    "            best_fold_data['fold_size']=fold_size\n",
    "            best_fold_data['cv_test_labels'] = test_labels\n",
    "            best_fold_data['cv_predicted_labels'] = predicted_labels\n",
    "            best_fold_data['max_accuracy'] = fold_classification_report['accuracy']\n",
    "\n",
    "        #appending metrics to result variable\n",
    "        results.append({\n",
    "        'Accuracy': fold_classification_report['accuracy'],\n",
    "        'Precision': fold_classification_report['weighted avg']['precision'],\n",
    "        'Recall': fold_classification_report['weighted avg']['recall'],\n",
    "        'F1 Score': fold_classification_report['weighted avg']['f1-score']\n",
    "        })\n",
    "        \n",
    "        #print accuracy of each fold\n",
    "        print(\"Accuracy: \" ,fold_classification_report['accuracy'])\n",
    "        \n",
    "    metrics = pd.DataFrame(results)\n",
    "    \n",
    "    return metrics.mean()"
   ]
  },
  {
   "cell_type": "markdown",
   "metadata": {},
   "source": [
    "This approach involves fine-tuning the hyperparameters of the LinearSVC model, such as the choice of kernel, and regularisation parameter etc. The accuracy of the model's prediction for negative sentiments was greatly improved by fine-tuning its parameters, especially adjusting C values revealed that lower C values corresponded to higher accuracy. The accuracy of the model improved to 86.6% at C=0.05, but the precision of classifying negative sentiment decreased. Therefore, the optimal parameter for this dataset was C=0.1"
   ]
  },
  {
   "cell_type": "code",
   "execution_count": 11,
   "metadata": {
    "scrolled": true
   },
   "outputs": [],
   "source": [
    "# PREDICTING LABELS GIVEN A CLASSIFIER\n",
    "\n",
    "def predict_labels(samples, classifier):\n",
    "    \"\"\"Assuming preprocessed samples, return their predicted labels from the classifier model.\"\"\"\n",
    "    return classifier.classify_many(samples)\n",
    "\n",
    "def predict_label_from_raw(sample, classifier):\n",
    "    \"\"\"Assuming raw text, return its predicted label from the classifier model.\"\"\"\n",
    "    return classifier.classify(to_feature_vector(preProcess(reviewSample)))"
   ]
  },
  {
   "cell_type": "code",
   "execution_count": 12,
   "metadata": {},
   "outputs": [
    {
     "name": "stdout",
     "output_type": "stream",
     "text": [
      "Now 0 rawData, 0 trainData, 0 testData\n",
      "Preparing the dataset...\n",
      "('waww,, I wanna have it RT @ElmiraGriswold3 @Vah_Raflatahugs wow,ipad got just today free lol www.burna.in/fgye', 'positive')\n",
      "Now 33540 rawData, 0 trainData, 0 testData\n",
      "Preparing training and test data...\n",
      "({318: 1, 319: 1, 4: 1, 320: 1, 29: 1, 40: 1, 321: 1, 141: 1, 18: 1, 322: 1, 121: 1, 51: 1, 323: 1, 324: 1, 325: 1, 326: 1, 16: 2, 327: 1, 328: 1}, 'positive')\n",
      "After split, 33540 rawData, 26832 trainData, 6708 testData\n",
      "Training Samples: \n",
      "26832\n",
      "Features: \n",
      "50062\n"
     ]
    }
   ],
   "source": [
    "# MAIN\n",
    "\n",
    "# loading reviews\n",
    "# initialize global lists that will be appended to by the methods below\n",
    "raw_data = []          # the filtered data from the dataset file\n",
    "train_data = []        # the pre-processed training data as a percentage of the total dataset\n",
    "test_data = []         # the pre-processed test data as a percentage of the total dataset\n",
    "\n",
    "\n",
    "# references to the data files\n",
    "data_file_path = 'sentiment-dataset.tsv'\n",
    "\n",
    "# Do the actual stuff (i.e. call the functions we've made)\n",
    "# We parse the dataset and put it in a raw data list\n",
    "print(\"Now %d rawData, %d trainData, %d testData\" % (len(raw_data), len(train_data), len(test_data)),\n",
    "      \"Preparing the dataset...\",sep='\\n')\n",
    "\n",
    "load_data(data_file_path) \n",
    "print(raw_data[24])\n",
    "# We split the raw dataset into a set of training data and a set of test data (80/20)\n",
    "# You do the cross validation on the 80% (training data)\n",
    "# We print the number of training samples and the number of features before the split\n",
    "print(\"Now %d rawData, %d trainData, %d testData\" % (len(raw_data), len(train_data), len(test_data)),\n",
    "      \"Preparing training and test data...\",sep='\\n')\n",
    "\n",
    "split_and_preprocess_data(0.8)\n",
    "print(train_data[24])\n",
    "# We print the number of training samples and the number of features after the split\n",
    "print(\"After split, %d rawData, %d trainData, %d testData\" % (len(raw_data), len(train_data), len(test_data)),\n",
    "      \"Training Samples: \", len(train_data), \"Features: \", len(global_feature_dict), sep='\\n')\n"
   ]
  },
  {
   "cell_type": "code",
   "execution_count": 13,
   "metadata": {},
   "outputs": [
    {
     "name": "stdout",
     "output_type": "stream",
     "text": [
      "Data after optimisation of pre-processing techniques\n",
      "['waww', ',,', 'i', 'wanna', 'have', 'it', 'rt', 'wow', ',', 'ipad', 'got', 'just', 'today', 'free', 'lol', 'www', '.', 'burna', '.', 'in/fgye']\n"
     ]
    }
   ],
   "source": [
    "#check pre processed data\n",
    "print(\"Data after optimisation of pre-processing techniques\")\n",
    "print(pre_process_optimised(raw_data[24][0]))"
   ]
  },
  {
   "cell_type": "code",
   "execution_count": 14,
   "metadata": {},
   "outputs": [
    {
     "name": "stdout",
     "output_type": "stream",
     "text": [
      "10 fold Cross Validation on training data after tuning SVM parameters\n",
      "Folds start on items 0 - 2684\n",
      "Training Classifier...\n",
      "Accuracy:  0.8677347242921013\n",
      "Folds start on items 2684 - 5368\n",
      "Training Classifier...\n",
      "Accuracy:  0.8740685543964233\n",
      "Folds start on items 5368 - 8052\n",
      "Training Classifier...\n",
      "Accuracy:  0.8319672131147541\n",
      "Folds start on items 8052 - 10736\n",
      "Training Classifier...\n",
      "Accuracy:  0.8666169895678092\n",
      "Folds start on items 10736 - 13420\n",
      "Training Classifier...\n",
      "Accuracy:  0.8614008941877794\n",
      "Folds start on items 13420 - 16104\n",
      "Training Classifier...\n",
      "Accuracy:  0.8766766020864382\n",
      "Folds start on items 16104 - 18788\n",
      "Training Classifier...\n",
      "Accuracy:  0.8748137108792846\n",
      "Folds start on items 18788 - 21472\n",
      "Training Classifier...\n",
      "Accuracy:  0.8614008941877794\n",
      "Folds start on items 21472 - 24156\n",
      "Training Classifier...\n",
      "Accuracy:  0.8699701937406855\n",
      "Folds start on items 24156 - 26840\n",
      "Training Classifier...\n",
      "Accuracy:  0.8692077727952168\n"
     ]
    }
   ],
   "source": [
    "#Cross validation\n",
    "print(\"10 fold Cross Validation on training data after tuning SVM parameters\")\n",
    "cv_results = cross_validate(train_data, 10)  # will work and output overall performance of p, r, f-score when cv implemented"
   ]
  },
  {
   "cell_type": "code",
   "execution_count": 15,
   "metadata": {},
   "outputs": [
    {
     "name": "stdout",
     "output_type": "stream",
     "text": [
      "Average scores across all folds\n",
      "Accuracy     0.865386\n",
      "Precision    0.864068\n",
      "Recall       0.865386\n",
      "F1 Score     0.863965\n",
      "dtype: float64\n"
     ]
    },
    {
     "data": {
      "image/png": "[encoded data removed]",
      "text/plain": [
       "<Figure size 640x480 with 1 Axes>"
      ]
     },
     "metadata": {},
     "output_type": "display_data"
    }
   ],
   "source": [
    "print(\"Average scores across all folds\")\n",
    "print(cv_results)\n",
    "\n",
    "# plot the results\n",
    "fold_metrics = pd.DataFrame(results, columns=['Accuracy', 'Precision', 'Recall', 'F1 Score'])\n",
    "fold_metrics.plot(kind='bar', ylabel='Score', xlabel='Fold', title='Cross Validation Metrics')\n",
    "plt.show()"
   ]
  },
  {
   "cell_type": "markdown",
   "metadata": {},
   "source": [
    "## Error Analysis "
   ]
  },
  {
   "cell_type": "code",
   "execution_count": 16,
   "metadata": {
    "scrolled": true
   },
   "outputs": [],
   "source": [
    "from sklearn import metrics\n",
    "import matplotlib.pyplot as plt\n",
    "# a function to make the confusion matrix readable and pretty\n",
    "def confusion_matrix_heatmap(y_test, preds, labels):\n",
    "    \"\"\"Function to plot a confusion matrix\"\"\"\n",
    "    # pass labels to the confusion matrix function to ensure right order\n",
    "    # cm = metrics.confusion_matrix(y_test, preds, labels)\n",
    "    cm = metrics.confusion_matrix(y_test, preds, labels=labels)\n",
    "    cm_df = pd.DataFrame(cm, index=labels, columns=labels)\n",
    "\n",
    "    fig = plt.figure(figsize=(5,5))\n",
    "    ax = fig.add_subplot(111)\n",
    "    cax = ax.matshow(cm)\n",
    "    plt.title('Confusion matrix of the classifier')\n",
    "    fig.colorbar(cax)\n",
    "    ax.set_xticks(np.arange(len(labels)))\n",
    "    ax.set_yticks(np.arange(len(labels)))\n",
    "    ax.set_xticklabels( labels, rotation=45)\n",
    "    ax.set_yticklabels( labels)\n",
    "\n",
    "    for i in range(len(cm)):\n",
    "        for j in range(len(cm)):\n",
    "            text = ax.text(j, i, cm[i, j],\n",
    "                           ha=\"center\", va=\"center\", color=\"w\")\n",
    "\n",
    "    plt.xlabel('Predicted')\n",
    "    plt.ylabel('True')\n",
    "    \n",
    "    # fix for mpl bug that cuts off top/bottom of seaborn viz:\n",
    "    b, t = plt.ylim() # discover the values for bottom and top\n",
    "    b += 0.5 # Add 0.5 to the bottom\n",
    "    t -= 0.5 # Subtract 0.5 from the top\n",
    "    plt.ylim(b, t) # update the ylim(bottom, top) values\n",
    "    plt.show() # ta-da!\n",
    "    plt.show()"
   ]
  },
  {
   "cell_type": "code",
   "execution_count": 17,
   "metadata": {
    "scrolled": true
   },
   "outputs": [],
   "source": [
    "def error_analysis():\n",
    "    \"\"\"Displays classification report, confusion matrix for the best fold in cross validation step. \n",
    "    Prints out the errors to a csv file\"\"\"\n",
    "    \n",
    "    #fetching the starting index of test data of the best fold\n",
    "    k = best_fold_data['test_start_index']\n",
    "\n",
    "    #display the results\n",
    "    print(\"Accuracy: \", best_fold_data['max_accuracy'])\n",
    "    print(classification_report(best_fold_data['cv_test_labels'], best_fold_data['cv_predicted_labels']))\n",
    "    confusion_matrix_heatmap(best_fold_data['cv_test_labels'], best_fold_data['cv_predicted_labels'], [\"negative\", \"positive\"])\n",
    "\n",
    "    #write errors to csv file\n",
    "    with open('./error_analysis_tweets_optimised.csv', 'w') as f:\n",
    "        writer = csv.writer(f)\n",
    "\n",
    "        #heading\n",
    "        writer.writerow(['Index', 'Text', 'Label', 'Prediction'])\n",
    "\n",
    "        #false negatives\n",
    "        writer.writerow(['False Negatives'])\n",
    "        index = 1\n",
    "        for i in range(len(best_fold_data['cv_predicted_labels'])):\n",
    "            if best_fold_data['cv_predicted_labels'][i] == 'negative' and best_fold_data['cv_test_labels'][i] == 'positive':\n",
    "                writer.writerow([index,raw_data[k+i][0], best_fold_data['cv_test_labels'][i], best_fold_data['cv_predicted_labels'][i]])\n",
    "                index += 1\n",
    "\n",
    "        #false positives\n",
    "        writer.writerow(['False Positives'])\n",
    "        index = 1\n",
    "        for i in range(len(best_fold_data['cv_predicted_labels'])):\n",
    "            if best_fold_data['cv_predicted_labels'][i] == 'positive' and best_fold_data['cv_test_labels'][i] == 'negative':\n",
    "                writer.writerow([index,raw_data[k+i][0], best_fold_data['cv_test_labels'][i], best_fold_data['cv_predicted_labels'][i]])\n",
    "                index += 1"
   ]
  },
  {
   "cell_type": "code",
   "execution_count": 18,
   "metadata": {},
   "outputs": [
    {
     "name": "stdout",
     "output_type": "stream",
     "text": [
      "Metrics of the best fold data after optimisation\n",
      "Accuracy:  0.8766766020864382\n",
      "              precision    recall  f1-score   support\n",
      "\n",
      "    negative       0.86      0.77      0.81       931\n",
      "    positive       0.89      0.93      0.91      1753\n",
      "\n",
      "    accuracy                           0.88      2684\n",
      "   macro avg       0.87      0.85      0.86      2684\n",
      "weighted avg       0.88      0.88      0.88      2684\n",
      "\n"
     ]
    },
    {
     "data": {
      "image/png": "[encoded data removed]",
      "text/plain": [
       "<Figure size 500x500 with 2 Axes>"
      ]
     },
     "metadata": {},
     "output_type": "display_data"
    }
   ],
   "source": [
    "#Perform error analysis\n",
    "print(\"Metrics of the best fold data after optimisation\")\n",
    "error_analysis()"
   ]
  },
  {
   "cell_type": "code",
   "execution_count": 19,
   "metadata": {},
   "outputs": [
    {
     "data": {
      "text/html": [
       "<div>\n",
       "<style scoped>\n",
       "    .dataframe tbody tr th:only-of-type {\n",
       "        vertical-align: middle;\n",
       "    }\n",
       "\n",
       "    .dataframe tbody tr th {\n",
       "        vertical-align: top;\n",
       "    }\n",
       "\n",
       "    .dataframe thead th {\n",
       "        text-align: right;\n",
       "    }\n",
       "</style>\n",
       "<table border=\"1\" class=\"dataframe\">\n",
       "  <thead>\n",
       "    <tr style=\"text-align: right;\">\n",
       "      <th></th>\n",
       "      <th>Index</th>\n",
       "      <th>Text</th>\n",
       "      <th>Label</th>\n",
       "      <th>Prediction</th>\n",
       "    </tr>\n",
       "  </thead>\n",
       "  <tbody>\n",
       "    <tr>\n",
       "      <th>0</th>\n",
       "      <td>False Negatives</td>\n",
       "      <td>NaN</td>\n",
       "      <td>NaN</td>\n",
       "      <td>NaN</td>\n",
       "    </tr>\n",
       "    <tr>\n",
       "      <th>1</th>\n",
       "      <td>1</td>\n",
       "      <td>Mushu at The Hurricane wearing Tressa's rockst...</td>\n",
       "      <td>positive</td>\n",
       "      <td>negative</td>\n",
       "    </tr>\n",
       "    <tr>\n",
       "      <th>2</th>\n",
       "      <td>2</td>\n",
       "      <td>Hockey home opener. LSI vs. CBA, November 28th...</td>\n",
       "      <td>positive</td>\n",
       "      <td>negative</td>\n",
       "    </tr>\n",
       "    <tr>\n",
       "      <th>3</th>\n",
       "      <td>3</td>\n",
       "      <td>@TimWelcomed Since there is a WWE Games group ...</td>\n",
       "      <td>positive</td>\n",
       "      <td>negative</td>\n",
       "    </tr>\n",
       "    <tr>\n",
       "      <th>4</th>\n",
       "      <td>4</td>\n",
       "      <td>@OsoFreshFutbol I think the expectations are s...</td>\n",
       "      <td>positive</td>\n",
       "      <td>negative</td>\n",
       "    </tr>\n",
       "  </tbody>\n",
       "</table>\n",
       "</div>"
      ],
      "text/plain": [
       "             Index                                               Text  \\\n",
       "0  False Negatives                                                NaN   \n",
       "1                1  Mushu at The Hurricane wearing Tressa's rockst...   \n",
       "2                2  Hockey home opener. LSI vs. CBA, November 28th...   \n",
       "3                3  @TimWelcomed Since there is a WWE Games group ...   \n",
       "4                4  @OsoFreshFutbol I think the expectations are s...   \n",
       "\n",
       "      Label Prediction  \n",
       "0       NaN        NaN  \n",
       "1  positive   negative  \n",
       "2  positive   negative  \n",
       "3  positive   negative  \n",
       "4  positive   negative  "
      ]
     },
     "execution_count": 19,
     "metadata": {},
     "output_type": "execute_result"
    }
   ],
   "source": [
    "#display the error file\n",
    "csvcheck = pd.read_csv('./error_analysis_tweets_optimised.csv')\n",
    "csvcheck.head()"
   ]
  },
  {
   "cell_type": "markdown",
   "metadata": {},
   "source": [
    "The combination of preprocessing methods, particularly the removal of usernames, lemmatization, and normalisation, alongside the bag of words feature engineering technique, emerged as the most successful approach. The fine tuning of the SVM's 'C' parameter to 0.1, achieved an overall accuracy of 86.5% and increased recall score from 75% to 77% in analysing the negative sentiment of training data."
   ]
  },
  {
   "cell_type": "markdown",
   "metadata": {},
   "source": [
    "## Training and Evaluation"
   ]
  },
  {
   "cell_type": "code",
   "execution_count": 20,
   "metadata": {},
   "outputs": [
    {
     "name": "stdout",
     "output_type": "stream",
     "text": [
      "({101: 1, 211: 2, 5: 2, 692: 2, 975: 1, 57: 2, 23994: 1, 92: 1, 56: 1, 43252: 1, 43253: 1, 268: 1, 909: 1, 106: 2, 161: 1, 138: 1, 15595: 1, 22: 1, 2518: 1}, 'positive')\n",
      "Training Classifier...\n",
      "Done training!\n",
      "Precision: 0.866084\n",
      "Recall: 0.867323\n",
      "F Score:0.866227\n"
     ]
    }
   ],
   "source": [
    "# Finally, check the accuracy of your classifier by training on all the training data\n",
    "# and testing on the test set\n",
    "functions_complete = True\n",
    "if functions_complete:\n",
    "    print(test_data[0])   # have a look at the first test data instance\n",
    "    classifier = train_classifier_tuned(train_data,0.1)  # train the optimised classifier \n",
    "    test_true = [t[1] for t in test_data]   # get the ground-truth labels from the data\n",
    "    test_pred = predict_labels([x[0] for x in test_data], classifier)  # classify the test data to get predicted labels\n",
    "    final_scores = precision_recall_fscore_support(test_true, test_pred, average='weighted') # evaluate\n",
    "    print(\"Done training!\")\n",
    "    print(\"Precision: %f\\nRecall: %f\\nF Score:%f\" % final_scores[:3])"
   ]
  },
  {
   "cell_type": "markdown",
   "metadata": {},
   "source": [
    "The performance of the classifier was significantly improved by using systematic optimization techniques and was able to achieve an accuracy of 86.7% on test data."
   ]
  }
 ],
 "metadata": {
  "kernelspec": {
   "display_name": "Python 3 (ipykernel)",
   "language": "python",
   "name": "python3"
  },
  "language_info": {
   "codemirror_mode": {
    "name": "ipython",
    "version": 3
   },
   "file_extension": ".py",
   "mimetype": "text/x-python",
   "name": "python",
   "nbconvert_exporter": "python",
   "pygments_lexer": "ipython3",
   "version": "3.10.13"
  }
 },
 "nbformat": 4,
 "nbformat_minor": 4
}
